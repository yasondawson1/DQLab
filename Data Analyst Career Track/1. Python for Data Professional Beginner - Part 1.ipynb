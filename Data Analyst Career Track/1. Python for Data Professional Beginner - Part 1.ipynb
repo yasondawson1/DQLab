{
 "cells": [
  {
   "cell_type": "markdown",
   "metadata": {},
   "source": [
    "Python for Data Professional Beginner - Part 1\n",
    "\n",
    "Noted by Yason Dawson"
   ]
  },
  {
   "cell_type": "markdown",
   "metadata": {},
   "source": [
    "# Mari Mengenal Python"
   ]
  },
  {
   "cell_type": "markdown",
   "metadata": {},
   "source": [
    "## Apa dan Kenapa Python – Part 1?"
   ]
  },
  {
   "cell_type": "markdown",
   "metadata": {},
   "source": [
    "Python adalah bahasa pemrograman yang ditujukan untuk general-purpose programming dan termasuk dalam kategori high-level programming language.\n",
    "\n",
    "Sebagai general-purpose programming language, Python digunakan untuk berbagai macam permasalahan seperti: pengembangan aplikasi web ataupun mobile, data science, dll.\n",
    "\n",
    "Python masuk ke dalam kategori high-level programming language dikarenakan bahasa pemrograman Python yang mudah untuk dibaca dan dituliskan oleh manusia.\n",
    "\n",
    "Bahasa  pemrograman  Python  diciptakan  oleh Guido van Rossum dan pertama kali diperkenalkan pada tahun 1991 sebagai sebuah proyek open-source.\n",
    "\n",
    "Sifat open-source dari Python mengartikan bahwa setiap orang dapat mengembangkan program komputer dengan menggunakan bahasa pemrograman Python baik untuk tujuan komersil/non-komersil."
   ]
  },
  {
   "cell_type": "markdown",
   "metadata": {},
   "source": [
    "## Apa dan Kenapa Python – Part 2?"
   ]
  },
  {
   "cell_type": "markdown",
   "metadata": {},
   "source": [
    "Bahasa pemrograman Python bersifat dynamically typed (Python akan secara otomatis mengubah masukan dari pengguna) dan mendukung berbagai paradigma pemrograman baik pemrograman secara prosedural, berbasis objek (Object-Oriented), ataupun fungsional.\n",
    "\n",
    "Selain alasan di atas terdapat beberapa alasan lain untuk menggunakan bahasa pemrograman Python:\n",
    "1. Python dikembangkan untuk bersifat extendible yang mengartikan bahwa Python dapat dikembangkan untuk berbagai macam tugas baik untuk pembuatan aplikasi web ataupun desktop, proses analisis data, dll.\n",
    "2. Python memiliki komunitas yang besar yang secara aktif berkontribusi untuk menyediakan berbagai macam fungsionalitas (third-party libraries). Third-party libraries yang tersedia dalam bahasa pemrograman Python memungkinkan para pengembang untuk dapat fokus menyelesaikan permasalahan yang ada. Per Januari 2020, terdapat 214,922 modul third-party yang dapat kita gunakan secara cuma-cuma.\n",
    "3. Python terintegrasi dengan baik dengan berbagai macam bahasa pemrograman dan layanan enterprise. Untuk bagian-bagian yang melibatkan sumber daya komputasi yang besar, pengembang dapat menggunakan fungsionalitas dalam bahasa pemrograman lainnya yang bersifat low-level yang telah dikemas ke dalam fungsionalitas Python."
   ]
  },
  {
   "cell_type": "markdown",
   "metadata": {},
   "source": [
    "## Program pertama: \"Hello World\""
   ]
  },
  {
   "cell_type": "code",
   "execution_count": 1,
   "metadata": {},
   "outputs": [
    {
     "name": "stdout",
     "output_type": "stream",
     "text": [
      "Hello World!\n"
     ]
    }
   ],
   "source": [
    "print (\"Hello World!\")"
   ]
  },
  {
   "cell_type": "code",
   "execution_count": 2,
   "metadata": {},
   "outputs": [
    {
     "name": "stdout",
     "output_type": "stream",
     "text": [
      "Halo Dunia\n",
      "Riset Bahasa Python\n"
     ]
    }
   ],
   "source": [
    "print(\"Halo Dunia\")\n",
    "print(\"Riset Bahasa Python\")"
   ]
  },
  {
   "cell_type": "markdown",
   "metadata": {},
   "source": [
    "## Struktur Program Python - Part 1"
   ]
  },
  {
   "cell_type": "markdown",
   "metadata": {},
   "source": [
    "1. Statements: Instruksi yang diberikan secara baris per baris untuk dijalankan oleh mesin. Contoh:"
   ]
  },
  {
   "cell_type": "code",
   "execution_count": 3,
   "metadata": {},
   "outputs": [
    {
     "name": "stdout",
     "output_type": "stream",
     "text": [
      "Belajar Python menyenangkan\n",
      "Halo Dunia\n",
      "Hello World!\n"
     ]
    }
   ],
   "source": [
    "# Statement\n",
    "print(\"Belajar Python menyenangkan\") \n",
    "print(\"Halo Dunia\")\n",
    "print(\"Hello World!\")"
   ]
  },
  {
   "cell_type": "markdown",
   "metadata": {},
   "source": [
    "2. Variables: Lokasi penyimpanan yang dapat digunakan untuk menampung sebuah data atau informasi. Contoh: aku mempunyai variabel yang bernama bilangan1, bilangan2, dan kalimat1"
   ]
  },
  {
   "cell_type": "code",
   "execution_count": 4,
   "metadata": {},
   "outputs": [],
   "source": [
    "# Variables & Literals\n",
    "bilangan1 = 5\n",
    "bilangan2 = 10\n",
    "kalimat1 = \"Belajar Bahasa Python\""
   ]
  },
  {
   "cell_type": "markdown",
   "metadata": {},
   "source": [
    "3. Literals: Simbol-simbol yang dapat kita gunakan untuk mengisi suatu variabel. Pada kode yang telah dicontohkan di atas, angka 5 dan 10 serta 'Belajar Bahasa Python' disebut sebagai literal."
   ]
  },
  {
   "cell_type": "markdown",
   "metadata": {},
   "source": [
    "4. Operators: Simbol-simbol yang dapat digunakan untuk mengubah nilai dari satu variabel dengan melibatkan satu atau lebih variabel dan literal. Contoh: Tanda + merupakan salah satu contoh operator. Dengan menggunakan tanda +, aku berhasil menambahkan isi dari bilangan1 dan bilangan2!"
   ]
  },
  {
   "cell_type": "code",
   "execution_count": 5,
   "metadata": {},
   "outputs": [
    {
     "name": "stdout",
     "output_type": "stream",
     "text": [
      "15\n"
     ]
    }
   ],
   "source": [
    "# Operators\n",
    "print(bilangan1 + bilangan2)"
   ]
  },
  {
   "cell_type": "markdown",
   "metadata": {},
   "source": [
    "Adapun operator yang lain selain operator + adalah sebagai berikut.\n",
    "1. Operator - yang berfungsi sebagai operator pengurangan,\n",
    "2. Operator * yang berfungsi sebagai operator perkalian, dan\n",
    "3. Operator ** untuk pemangkatan"
   ]
  },
  {
   "cell_type": "markdown",
   "metadata": {},
   "source": [
    "## Tugas Praktek"
   ]
  },
  {
   "cell_type": "markdown",
   "metadata": {},
   "source": [
    "Tugas:\n",
    "\n",
    "Deklarasi variable bilangan1 dengan 20, dan bilangan2 dengan 10 dan tampilkan hasil pengurangan bilangan1 & bilangan 2."
   ]
  },
  {
   "cell_type": "code",
   "execution_count": 6,
   "metadata": {},
   "outputs": [
    {
     "name": "stdout",
     "output_type": "stream",
     "text": [
      "10\n"
     ]
    }
   ],
   "source": [
    "bilangan1 = 20\n",
    "bilangan2 = 10 \n",
    "print(bilangan1-bilangan2)"
   ]
  },
  {
   "cell_type": "markdown",
   "metadata": {},
   "source": [
    "Tugas:\n",
    "\n",
    "1. Aku diminta menghitung harga_setelah_potongan dan harga_final. harga_final diperoleh dengan mengalikan harga_setelah_potongan dengan angka 1.1 karena PPN sebesar 10% (100% + 10% = 110% atau 1.1)\n",
    "2. Aku menggunakan variabel harga_asli dengan nilai 20000 dan variabel potongan dengan nilai 2000."
   ]
  },
  {
   "cell_type": "code",
   "execution_count": 8,
   "metadata": {},
   "outputs": [
    {
     "name": "stdout",
     "output_type": "stream",
     "text": [
      "19800.0\n"
     ]
    }
   ],
   "source": [
    "harga_asli = 20000\n",
    "potongan = 2000\n",
    "harga_setelah_potongan = harga_asli - potongan \n",
    "harga_final = harga_setelah_potongan * 1.1 \n",
    "print(harga_final)"
   ]
  },
  {
   "cell_type": "markdown",
   "metadata": {},
   "source": [
    "## Struktur Program Python - Part 2"
   ]
  },
  {
   "cell_type": "markdown",
   "metadata": {},
   "source": [
    "1. Reserved Words: Kumpulan kata-kata yang memiliki makna khusus dalam bahasa pemrograman Python. Kata False, return, dan for merupakan contoh dari reserved words.\n",
    "Catatan: Ternyata, aku tidak dapat mendeklarasikan variabel dengan menggunakan sebuah reserved word!\n",
    "\n",
    "2. Whitespace: Pada bahasa Python, spasi dan tab memiliki makna khusus untuk menandai serangkaian blok dalam kode Python. Hal ini akan dijelaskan secara lebih lanjut pada bagian struktur pemilihan dan struktur pengulangan pada bahasa Python.\n",
    "\n",
    "3. Comments: Comments merupakan sekumpulan teks yang dituliskan di dalam sebuah program yang tidak akan mempengaruhi hasil dari sebuah program. Walaupun tidak mempengaruhi hasil program, comments merupakan salah satu komponen yang penting dalam pengembangan program. Hal tersebut dikarenakan comments dapat diselipkan di antara sekumpulan statements yang telah dituliskan, untuk berkomunikasi dengan rekan programmer lainnya dalam satu tim. "
   ]
  },
  {
   "cell_type": "markdown",
   "metadata": {},
   "source": [
    "# Python Operators"
   ]
  },
  {
   "cell_type": "markdown",
   "metadata": {},
   "source": [
    "## Pendahuluan"
   ]
  },
  {
   "cell_type": "markdown",
   "metadata": {},
   "source": [
    "Setelah aku berhasil mempelajari detail terkait dengan variables dan data type, sekarang aku akan mempelajari operator-operator yang tersedia di dalam Python. Di dalam Python, operator terbagi ke dalam 6 kelompok:\n",
    "1. Arithmetic operators\n",
    "2. Assignment operators\n",
    "3. Comparison operators\n",
    "4. Logical operators\n",
    "5. Identity operators\n",
    "6. Membership operators"
   ]
  },
  {
   "cell_type": "code",
   "execution_count": 9,
   "metadata": {},
   "outputs": [
    {
     "name": "stdout",
     "output_type": "stream",
     "text": [
      "2\n"
     ]
    }
   ],
   "source": [
    "bil1 = 5\n",
    "bil2 = bil1 // 2\n",
    "print(bil2)"
   ]
  },
  {
   "cell_type": "code",
   "execution_count": 10,
   "metadata": {},
   "outputs": [
    {
     "name": "stdout",
     "output_type": "stream",
     "text": [
      "5\n"
     ]
    }
   ],
   "source": [
    "bil1 = 5\n",
    "bil2 = bil1 % 2\n",
    "bil1 *= bil2\n",
    "print(bil1)"
   ]
  },
  {
   "cell_type": "code",
   "execution_count": 12,
   "metadata": {},
   "outputs": [
    {
     "name": "stdout",
     "output_type": "stream",
     "text": [
      "True\n"
     ]
    }
   ],
   "source": [
    "bil1 = 5\n",
    "bil2 = 10\n",
    "print(bil2 > bil1 and bil2 < 15)"
   ]
  },
  {
   "cell_type": "code",
   "execution_count": 13,
   "metadata": {},
   "outputs": [
    {
     "name": "stdout",
     "output_type": "stream",
     "text": [
      "False\n"
     ]
    }
   ],
   "source": [
    "bil1 = 5\n",
    "bil2 = bil1 // 2\n",
    "hasil = bil1 <= bil2 or bil1 == 2\n",
    "print(hasil)"
   ]
  },
  {
   "cell_type": "markdown",
   "metadata": {},
   "source": [
    "## Nilai Prioritas Operator dalam Python – Part 1"
   ]
  },
  {
   "cell_type": "markdown",
   "metadata": {},
   "source": [
    "## Tugas"
   ]
  },
  {
   "cell_type": "markdown",
   "metadata": {},
   "source": [
    "Tugas:\n",
    "\n",
    "Aku diminta Senja untuk menghitung harga yang harus dibayarkan menggunakan barang senilai 150,000, dengan diskon 30% dan pajak 10%, menggunakan cara yang aku gunakan awal dan cara lebih singkat yang diajarkan Senja. "
   ]
  },
  {
   "cell_type": "code",
   "execution_count": 14,
   "metadata": {},
   "outputs": [
    {
     "name": "stdout",
     "output_type": "stream",
     "text": [
      "Kode awal - harga_bayar= 115500.0\n",
      "Penyederhanaan kode - harga_bayar= 115500.0\n"
     ]
    }
   ],
   "source": [
    "# Kode awal\n",
    "total_harga = 150000\n",
    "potongan_harga = 0.3\n",
    "pajak = 0.1 # pajak dalam persen ~ 10%\n",
    "harga_bayar = 1 - potongan_harga # baris pertama\n",
    "harga_bayar *= total_harga # baris kedua\n",
    "pajak_bayar = pajak * harga_bayar # baris ketiga\n",
    "harga_bayar += pajak_bayar # baris ke-4\n",
    "print(\"Kode awal - harga_bayar=\", harga_bayar)\n",
    "# Penyederhanaan baris kode dengan menerapkan prioritas operator\n",
    "total_harga = 150000\n",
    "potongan_harga = 0.3\n",
    "pajak = 0.1 # pajak dalam persen ~ 10%\n",
    "harga_bayar = (1 - potongan_harga) * total_harga #baris pertama \n",
    "harga_bayar += harga_bayar * pajak # baris kedua\n",
    "print(\"Penyederhanaan kode - harga_bayar=\", harga_bayar)"
   ]
  },
  {
   "cell_type": "markdown",
   "metadata": {},
   "source": [
    "## Latihan"
   ]
  },
  {
   "cell_type": "code",
   "execution_count": 15,
   "metadata": {},
   "outputs": [
    {
     "name": "stdout",
     "output_type": "stream",
     "text": [
      "19\n"
     ]
    }
   ],
   "source": [
    "bilangan = (5 % 3 ** 2) + (3 + 2 * 2) * (4 - 2) \n",
    "print(bilangan)"
   ]
  },
  {
   "cell_type": "markdown",
   "metadata": {},
   "source": [
    "## Tugas"
   ]
  },
  {
   "cell_type": "markdown",
   "metadata": {},
   "source": [
    "Tugas:\n",
    "\n",
    "Dengan cara yang diajarkan Senja, aku akan membuat potongan kode diatas menjadi lebih simpel. Jangan lupa ada pajak 10%."
   ]
  },
  {
   "cell_type": "code",
   "execution_count": 16,
   "metadata": {},
   "outputs": [
    {
     "name": "stdout",
     "output_type": "stream",
     "text": [
      "365200.00000000006\n"
     ]
    }
   ],
   "source": [
    "sepatu = { \"nama\" : \"Sepatu Niko\", \"harga\": 150000, \"diskon\": 30000 }\n",
    "baju = { \"nama\" : \"Baju Unikloh\", \"harga\": 80000, \"diskon\": 8000 }\n",
    "celana = { \"nama\" : \"Celana Lepis\", \"harga\": 200000, \"diskon\": 60000 }\n",
    "harga_sepatu = sepatu[\"harga\"] - sepatu[\"diskon\"]\n",
    "harga_baju = baju[\"harga\"] - baju[\"diskon\"]\n",
    "harga_celana = celana[\"harga\"] - celana[\"diskon\"]\n",
    "total_harga = (harga_sepatu + harga_baju + harga_celana) * 1.1 \n",
    "print(total_harga)"
   ]
  },
  {
   "cell_type": "markdown",
   "metadata": {},
   "source": [
    "# Pythons Conditioning & Looping"
   ]
  },
  {
   "cell_type": "markdown",
   "metadata": {},
   "source": [
    "## Python Conditioning for Decision – Part 1"
   ]
  },
  {
   "cell_type": "markdown",
   "metadata": {},
   "source": [
    "Layaknya bahasa pemrograman lainnya, bahasa pemrograman Python menyediakan statemen desisi (decision statement) untuk berinteraksi dengan variabel bertipe boolean dan operator logika. Statemen desisi dalam Python dapat dituliskan dengan menggunakan format berikut:\n",
    "\n",
    "if conditions:\n",
    "\n",
    "    do_action_1\n",
    "\n",
    "    ...\n",
    "\n",
    "    do_action_n\n",
    "    \n",
    "Dengan <conditions> berisikan operator yang mengembalikan nilai kebenaran; ataupun beberapa operator yang mengembalikan nilai kebenaran, yang digabungkan dengan operator logika.  Melalui  sebuah statemen desisi (if statement), <do_action_1> sampai dengan <do_action_n> akan dijalankan saat <conditions> bernilai True.\n",
    "\n",
    " \n",
    "\n",
    "Dalam menuliskan serangkaian aksi (<do_action_1>, ... , <do_action_n>) dalam sebuah statemen if, aku harus mengemas setiap aksi dalam sebuah blok dengan menambahkan indentasi (jorokan) dari pada aksi."
   ]
  },
  {
   "cell_type": "markdown",
   "metadata": {},
   "source": [
    "## Python Conditioning for Decision – Part 2"
   ]
  },
  {
   "cell_type": "code",
   "execution_count": 17,
   "metadata": {},
   "outputs": [
    {
     "name": "stdout",
     "output_type": "stream",
     "text": [
      "x habis dibagi dua\n",
      "x tidak habis dibagi dua, tiga ataupun lima\n"
     ]
    }
   ],
   "source": [
    "# Statement if\n",
    "x = 4\n",
    "if x % 2 == 0: # jika sisa bagi x dengan 2 sama dengan 0\n",
    "    print(\"x habis dibagi dua\") # statemen aksi lebih menjorok ke dalam\n",
    "# Statement if ... elif ... else\n",
    "x = 7\n",
    "if x % 2 == 0: # jika sisa bagi x dengan 2 sama dengan 0\n",
    "    print(\"x habis dibagi dua\")\n",
    "elif x % 3 == 0: # jika sisa bagi x dengan 3 sama dengan 0\n",
    "    print(\"x habis dibagi tiga\")\n",
    "elif x % 5 == 0: # jika sisa bagi x dengan 5 sama dengan 0\n",
    "    print(\"x habis dibagi lima\")\n",
    "else:\n",
    "    print(\"x tidak habis dibagi dua, tiga ataupun lima\")"
   ]
  },
  {
   "cell_type": "markdown",
   "metadata": {},
   "source": [
    "## Python Conditioning for Decision – Part 3"
   ]
  },
  {
   "cell_type": "code",
   "execution_count": 18,
   "metadata": {},
   "outputs": [
    {
     "name": "stdout",
     "output_type": "stream",
     "text": [
      "Selamat siang!\n"
     ]
    }
   ],
   "source": [
    "jam = 13\n",
    "if jam >= 5 and jam < 12: # selama jam di antara 5 s.d. 12\n",
    "    print(\"Selamat pagi!\")\n",
    "elif jam >= 12 and jam < 17: # selama jam di antara 12 s.d. 17\n",
    "    print(\"Selamat siang!\")\n",
    "elif jam >= 17 and jam < 19: # selama jam di antara 17 s.d. 19\n",
    "    print(\"Selamat sore!\")\n",
    "else: # selain kondisi di atas\n",
    "    print(\"Selamat malam!\")"
   ]
  },
  {
   "cell_type": "markdown",
   "metadata": {},
   "source": [
    "## Tugas Praktek"
   ]
  },
  {
   "cell_type": "code",
   "execution_count": 19,
   "metadata": {},
   "outputs": [
    {
     "name": "stdout",
     "output_type": "stream",
     "text": [
      "Tagihan kepada:\n",
      "Mr. Yoyo\n",
      "Selamat pagi, anda harus membayar tagihan sebesar:\n",
      "85000000\n"
     ]
    }
   ],
   "source": [
    "tagihan_ke = 'Mr. Yoyo'\n",
    "warehousing = { 'harga_harian': 1000000, 'total_hari':15 } \n",
    "cleansing = { 'harga_harian': 1500000, 'total_hari':10 } \n",
    "integration = { 'harga_harian':2000000, 'total_hari':15 } \n",
    "transform = { 'harga_harian':2500000, 'total_hari':10 }\n",
    "sub_warehousing = warehousing['harga_harian']*warehousing['total_hari'] \n",
    "sub_cleansing = cleansing['harga_harian']*cleansing['total_hari'] \n",
    "sub_integration = integration['harga_harian']*integration['total_hari'] \n",
    "sub_transform = transform['harga_harian']*transform['total_hari']\n",
    "total_harga = sub_warehousing+sub_cleansing+sub_integration+sub_transform\n",
    "print(\"Tagihan kepada:\")\n",
    "print(tagihan_ke)\n",
    "print(\"Selamat pagi, anda harus membayar tagihan sebesar:\") \n",
    "print(total_harga)"
   ]
  },
  {
   "cell_type": "markdown",
   "metadata": {},
   "source": [
    "Tugas:\n",
    "\n",
    "Tolong masukkan variabel keterangan waktu tersebut di kodemu. Lalu, diatur dengan detail berikut:\n",
    "1. Diatas jam 07 malam adalah salam 'selamat malam'\n",
    "2. Diatas jam 05 sore adalah salam 'selamat sore'\n",
    "3. Diatas jam 12 siang, adalah 'selamat siang'\n",
    "4. dan selain itu 'selamat pagi'"
   ]
  },
  {
   "cell_type": "code",
   "execution_count": 20,
   "metadata": {},
   "outputs": [
    {
     "name": "stdout",
     "output_type": "stream",
     "text": [
      "Tagihan kepada:\n",
      "Mr. Yoyo\n",
      "Selamat siang, anda harus membayar tagihan sebesar:\n",
      "85000000\n"
     ]
    }
   ],
   "source": [
    "jam = 17\n",
    "tagihan_ke = 'Mr. Yoyo'\n",
    "warehousing = { 'harga_harian': 1000000, 'total_hari':15 }\n",
    "cleansing = { 'harga_harian': 1500000, 'total_hari':10 } \n",
    "integration = { 'harga_harian':2000000, 'total_hari':15 } \n",
    "transform = { 'harga_harian':2500000, 'total_hari':10 }\n",
    "sub_warehousing = warehousing['harga_harian']*warehousing['total_hari'] \n",
    "sub_cleansing = cleansing['harga_harian']*cleansing['total_hari'] \n",
    "sub_integration = integration['harga_harian']*integration['total_hari'] \n",
    "sub_transform = transform['harga_harian']*transform['total_hari']\n",
    "total_harga=    sub_warehousing+sub_cleansing+sub_integration+sub_transform\n",
    "print(\"Tagihan kepada:\")\n",
    "print(tagihan_ke)\n",
    "if jam > 19:\n",
    "\tprint(\"Selamat malam, anda harus membayar tagihan sebesar:\") \n",
    "elif jam > 17:\n",
    "\tprint(\"Selamat sore, anda harus membayar tagihan sebesar:\") \n",
    "elif jam > 12:\n",
    "\tprint(\"Selamat siang, anda harus membayar tagihan sebesar:\") \n",
    "else:\n",
    "\tprint(\"Selamat pagi, anda harus membayar tagihan sebesar:\") \n",
    "print(total_harga)"
   ]
  },
  {
   "cell_type": "markdown",
   "metadata": {},
   "source": [
    "## Python Primitive Loop Control"
   ]
  },
  {
   "cell_type": "markdown",
   "metadata": {},
   "source": [
    "Loop Control merupakan salah satu fitur yang mengizinkan penggunanya untuk melakukan serangkaian aksi, selama suatu kondisi yang telah ditetapkan bernilai benar. Dalam Python, terdapat dua bentuk primitif dari loop kontrol (struktur pengulangan), yaitu\n",
    "* **while** loops\n",
    "* **for** loops"
   ]
  },
  {
   "cell_type": "markdown",
   "metadata": {},
   "source": [
    "## Python while loops – Part 1"
   ]
  },
  {
   "cell_type": "code",
   "execution_count": 21,
   "metadata": {},
   "outputs": [
    {
     "name": "stdout",
     "output_type": "stream",
     "text": [
      "750000\n",
      "750000\n"
     ]
    }
   ],
   "source": [
    "# Tagihan\n",
    "tagihan = [50000, 75000, 125000, 300000, 200000]\n",
    "# Tanpa menggunakan while loop\n",
    "total_tagihan = tagihan[0] + tagihan[1] + tagihan[2] + tagihan[3] + tagihan[4]\n",
    "print(total_tagihan)\n",
    "# Dengan menggunakan while loop\n",
    "i=0 # sebuah variabel untuk mengakses setiap elemen tagihan satu per satu\n",
    "jumlah_tagihan = len(tagihan) # panjang (jumlah elemen dalam) list tagihan\n",
    "total_tagihan = 0 # mula-mula, set total_tagihan ke 0\n",
    "while i < jumlah_tagihan: # selama nilai i kurang dari jumlah_tagihan\n",
    "    total_tagihan += tagihan[i] # tambahkan tagihan[i] ke total_tagihan\n",
    "    i += 1 # tambahkan nilai i dengan 1 untuk memproses tagihan selanjutnya.\n",
    "print(total_tagihan)"
   ]
  },
  {
   "cell_type": "markdown",
   "metadata": {},
   "source": [
    "## Python while loops – Part 2"
   ]
  },
  {
   "cell_type": "code",
   "execution_count": 22,
   "metadata": {},
   "outputs": [
    {
     "name": "stdout",
     "output_type": "stream",
     "text": [
      "terdapat angka minus dalam tagihan, perhitungan dihentikan!\n",
      "-1\n"
     ]
    }
   ],
   "source": [
    "tagihan = [50000, 75000, -150000, 125000, 300000, -50000, 200000]\n",
    "i = 0\n",
    "jumlah_tagihan = len(tagihan)\n",
    "total_tagihan = 0\n",
    "while i < jumlah_tagihan:\n",
    "    # jika terdapat tagihan ke-i yang bernilai minus (di bawah nol),\n",
    "    # pengulangan akan dihentikan\n",
    "    if tagihan[i] < 0:\n",
    "        total_tagihan = -1\n",
    "        print(\"terdapat angka minus dalam tagihan, perhitungan dihentikan!\")\n",
    "        break\n",
    "    total_tagihan += tagihan[i]\n",
    "    i += 1\n",
    "print(total_tagihan)"
   ]
  },
  {
   "cell_type": "markdown",
   "metadata": {},
   "source": [
    "## Python while loops – Part 3"
   ]
  },
  {
   "cell_type": "code",
   "execution_count": 23,
   "metadata": {},
   "outputs": [
    {
     "name": "stdout",
     "output_type": "stream",
     "text": [
      "750000\n"
     ]
    }
   ],
   "source": [
    "tagihan = [50000, 75000, -150000, 125000, 300000, -50000, 200000]\n",
    "i = 0\n",
    "jumlah_tagihan = len(tagihan)\n",
    "total_tagihan = 0\n",
    "while i < jumlah_tagihan:\n",
    "    # jika terdapat tagihan ke-i yang bernilai minus (di bawah nol),\n",
    "    # abaikan tagihan ke-i dan lanjutkan ke tagihan berikutnya\n",
    "    if tagihan[i] < 0:\n",
    "        i+= 1\n",
    "        continue\n",
    "    total_tagihan += tagihan[i]\n",
    "    i += 1\n",
    "print(total_tagihan)"
   ]
  },
  {
   "cell_type": "markdown",
   "metadata": {},
   "source": [
    "## Python for loops – Part 1"
   ]
  },
  {
   "cell_type": "code",
   "execution_count": 24,
   "metadata": {},
   "outputs": [
    {
     "name": "stdout",
     "output_type": "stream",
     "text": [
      "550000\n"
     ]
    }
   ],
   "source": [
    "list_tagihan = [50000, 75000, -150000, 125000, 300000, -50000, 200000]\n",
    "total_tagihan = 0\n",
    "for tagihan in list_tagihan: # untuk setiap tagihan dalam list_tagihan\n",
    "    total_tagihan += tagihan # tambahkan tagihan ke total_tagihan\n",
    "print(total_tagihan)"
   ]
  },
  {
   "cell_type": "markdown",
   "metadata": {},
   "source": [
    "## Python for loops – Part 2"
   ]
  },
  {
   "cell_type": "code",
   "execution_count": 25,
   "metadata": {},
   "outputs": [
    {
     "name": "stdout",
     "output_type": "stream",
     "text": [
      "For loops with break\n",
      "Terdapat angka minus dalam tagihan, perhitungan dihentikan!\n",
      "Total tagihan 125000.\n",
      "\n",
      "For loops with continue\n",
      "Terdapat angka minus dalam tagihan, tagihan -150000 dilewati!\n",
      "Terdapat angka minus dalam tagihan, tagihan -50000 dilewati!\n",
      "Total tagihan 750000.\n"
     ]
    }
   ],
   "source": [
    "list_tagihan = [50000, 75000, -150000, 125000, 300000, -50000, 200000]\n",
    "\n",
    "# For loops with break\n",
    "print(\"For loops with break\")\n",
    "total_tagihan_break = 0\n",
    "for tagihan in list_tagihan:\n",
    "    if tagihan < 0:\n",
    "        print(\"Terdapat angka minus dalam tagihan, perhitungan dihentikan!\")\n",
    "        break\n",
    "    total_tagihan_break += tagihan\n",
    "print(\"Total tagihan %d.\" % total_tagihan_break)\n",
    "print()\n",
    "\n",
    "# For loops with continue\n",
    "print(\"For loops with continue\")\n",
    "total_tagihan_continue = 0\n",
    "for tagihan in list_tagihan:\n",
    "    if tagihan < 0:\n",
    "        print(\"Terdapat angka minus dalam tagihan, tagihan %d dilewati!\" % tagihan)\n",
    "        continue\n",
    "    total_tagihan_continue += tagihan\n",
    "print(\"Total tagihan %d.\" % total_tagihan_continue)"
   ]
  },
  {
   "cell_type": "markdown",
   "metadata": {},
   "source": [
    "## Python for loops – Part 3"
   ]
  },
  {
   "cell_type": "code",
   "execution_count": 26,
   "metadata": {},
   "outputs": [
    {
     "name": "stdout",
     "output_type": "stream",
     "text": [
      "Apel Malang\n",
      "Duku Malang\n",
      "Jeruk Malang\n",
      "Apel Palembang\n",
      "Duku Palembang\n",
      "Jeruk Palembang\n",
      "Apel Medan\n",
      "Duku Medan\n",
      "Jeruk Medan\n"
     ]
    }
   ],
   "source": [
    "list_daerah = ['Malang', 'Palembang', 'Medan']\n",
    "list_buah = ['Apel', 'Duku', 'Jeruk']\n",
    "for nama_daerah in list_daerah:\n",
    "    for nama_buah in list_buah:\n",
    "        print(nama_buah+\" \"+nama_daerah)"
   ]
  },
  {
   "cell_type": "markdown",
   "metadata": {},
   "source": [
    "## Tugas Praktek"
   ]
  },
  {
   "cell_type": "markdown",
   "metadata": {},
   "source": [
    "Program yang akan aku bangun akan mengolah sebuah list yang bernama list_cash_flow. Setiap elemen dari list_cash_flow berisikan pengeluaran (bilangan negatif) dan pemasukan (bilangan positif) pada perusahaan\n",
    "\n",
    "Dari list_cash_flow ini, aku akan menghitung total_pengeluaran dan total_pemasukan perusahaan. \n",
    "\n"
   ]
  },
  {
   "cell_type": "code",
   "execution_count": 27,
   "metadata": {},
   "outputs": [
    {
     "name": "stdout",
     "output_type": "stream",
     "text": [
      "12500000\n",
      "65000000\n"
     ]
    }
   ],
   "source": [
    "list_cash_flow = [\n",
    "2500000, 5000000, -1000000, -2500000, 5000000, 10000000,\n",
    "-5000000, 7500000, 10000000, -1500000, 25000000, -2500000\n",
    "]\n",
    "total_pengeluaran, total_pemasukan = 0, 0\n",
    "for dana in list_cash_flow: \n",
    "    if dana > 0:\n",
    "        total_pemasukan += dana \n",
    "    else:\n",
    "        total_pengeluaran += dana\n",
    "total_pengeluaran *= -1\n",
    "print(total_pengeluaran) \n",
    "print(total_pemasukan)"
   ]
  },
  {
   "cell_type": "markdown",
   "metadata": {},
   "source": [
    "# Mini Quiz"
   ]
  },
  {
   "cell_type": "markdown",
   "metadata": {},
   "source": [
    "## Ekspedisi Pamanku"
   ]
  },
  {
   "cell_type": "markdown",
   "metadata": {},
   "source": [
    "Aku menyambar ponsel di meja dan membuka pesan singkat dari paman tempo hari yang menjelaskan jika paman harus mengeluarkan uang sebesar 1,5 juta per mobil dalam sehari. Tapi, beliau selalu kebingungan dengan total pengeluaran per bulan karena adanya aturan ganjil-genap yang membuat pengoperasian mobil yang berbeda.\n",
    "\n",
    "“Kalau begitu, aku akan masukkan variabel jumlah_hari berisi jumlah hari dalam sebulan dan variabel list_plat_nomor berisi seluruh nomor plat mobil milik paman,” gumamku sendiri. Kalau seperti ini paman hanya perlu mengganti variabel jumlah_hari atau modifikasi variabel list_plat_nomor untuk melacak total pengeluaran paman selama sebulan. Ide Cemerlang!"
   ]
  },
  {
   "cell_type": "code",
   "execution_count": 28,
   "metadata": {},
   "outputs": [
    {
     "name": "stdout",
     "output_type": "stream",
     "text": [
      "163500000\n"
     ]
    }
   ],
   "source": [
    "# Data\n",
    "uang_jalan = 1500000\n",
    "jumlah_hari = 31\n",
    "list_plat_nomor = [8993, 2198, 2501, 2735, 3772, 4837, 9152]\n",
    "# Pengecekan kendaraan dengan nomor pelat ganjil atau genap \n",
    "kendaraan_genap = 0\n",
    "kendaraan_ganjil = 0 \n",
    "for plat_nomor in list_plat_nomor:\n",
    "    if plat_nomor % 2 == 0:\n",
    "        kendaraan_genap += 1 \n",
    "    else:\n",
    "        kendaraan_ganjil += 1\n",
    "# Total pengeluaran untuk kendaraan dengan nomor pelat ganjil\n",
    "# dan genap dalam 1 bulan\n",
    "i = 1\n",
    "total_pengeluaran = 0\n",
    "while i<= jumlah_hari:\n",
    "    if i % 2 == 0:\n",
    "        total_pengeluaran += (kendaraan_genap * uang_jalan) \n",
    "    else:\n",
    "        total_pengeluaran += (kendaraan_ganjil * uang_jalan) \n",
    "    i += 1\n",
    "# Cetak total pengeluaran\n",
    "print(total_pengeluaran)"
   ]
  }
 ],
 "metadata": {
  "kernelspec": {
   "display_name": "Python 3.9.12 ('base')",
   "language": "python",
   "name": "python3"
  },
  "language_info": {
   "codemirror_mode": {
    "name": "ipython",
    "version": 3
   },
   "file_extension": ".py",
   "mimetype": "text/x-python",
   "name": "python",
   "nbconvert_exporter": "python",
   "pygments_lexer": "ipython3",
   "version": "3.9.12"
  },
  "orig_nbformat": 4,
  "vscode": {
   "interpreter": {
    "hash": "7679c2132d3f6ce38c9df14d554b39c06862b36a4e6689c81f9ae15bd0911d7d"
   }
  }
 },
 "nbformat": 4,
 "nbformat_minor": 2
}
